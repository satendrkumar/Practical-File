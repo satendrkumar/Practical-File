{
 "cells": [
  {
   "cell_type": "markdown",
   "id": "1a55eaa5-e77b-4482-a3a3-767b70abfaa0",
   "metadata": {},
   "source": [
    "Q1. What is Abstraction in OOps? Explain with an example."
   ]
  },
  {
   "cell_type": "markdown",
   "id": "35e688e9-3950-4ee5-9fb7-1ed7820cf808",
   "metadata": {},
   "source": [
    "Abstraction in Object-Oriented Programming (OOP) is the concept of hiding the complex implementation details of a system and exposing only the necessary and relevant parts to the user. "
   ]
  },
  {
   "cell_type": "code",
   "execution_count": 1,
   "id": "c9178297-484e-4ccb-be39-898f2bef2ad0",
   "metadata": {},
   "outputs": [],
   "source": [
    "import abc\n",
    "class pwskills:\n",
    "    @abc.abstractclassmethod\n",
    "    \n",
    "    def students_details(self):\n",
    "        pass\n",
    "    @abc.abstractclassmethod\n",
    "    \n",
    "    def student_assignment(self):\n",
    "        pass\n",
    "    @abc.abstractclassmethod\n",
    "    \n",
    "    def student_marks(self):\n",
    "        pass\n",
    "class student_details(pwskills):\n",
    "    \n",
    "    def student_details(self):\n",
    "        return \"this is a meth for taking students details\"\n",
    "    def student_assignment(self):\n",
    "        return \"this is a meth for student assignment\"\n",
    "class data_scient_master(pwskills):\n",
    "    \n",
    "    def students_details(self):\n",
    "        return \"this will return a student details for data science\"\n",
    "    def student_assignment(self):\n",
    "        return \"this will give you a student assignment for seience\""
   ]
  },
  {
   "cell_type": "code",
   "execution_count": 3,
   "id": "0a16a9c5-319c-4cbd-b00e-c1a9b935ea21",
   "metadata": {},
   "outputs": [
    {
     "data": {
      "text/plain": [
       "'this will return a student details for data science'"
      ]
     },
     "execution_count": 3,
     "metadata": {},
     "output_type": "execute_result"
    }
   ],
   "source": [
    "dsm = data_scient_master()\n",
    "dsm.students_details()\n"
   ]
  },
  {
   "cell_type": "code",
   "execution_count": 4,
   "id": "eb11af34-9755-464f-ab57-9f4693ae1c78",
   "metadata": {},
   "outputs": [
    {
     "data": {
      "text/plain": [
       "'this is a meth for taking students details'"
      ]
     },
     "execution_count": 4,
     "metadata": {},
     "output_type": "execute_result"
    }
   ],
   "source": [
    "sd = student_details()\n",
    "sd.student_details()"
   ]
  },
  {
   "cell_type": "markdown",
   "id": "af005768-e005-4297-9769-231d271833ec",
   "metadata": {},
   "source": [
    "Q2. Differentiate between Abstraction and Encapsulation. Explain with an example."
   ]
  },
  {
   "cell_type": "markdown",
   "id": "078f27e3-ffae-42dd-9d78-b74ed4e6a10e",
   "metadata": {},
   "source": [
    "Encapsulation:- Encapsulation is the concept of wrapping data and methods that operate on the data into a single unit, typically a class. It restricts direct access to some of the object’s components, which can help prevent accidental interference and misuse\n",
    "\n",
    "\n",
    "Abstraction:-Abstraction in Object-Oriented Programming (OOP) is the concept of hiding the complex implementation details of a system and exposing only the necessary and relevant parts to the user."
   ]
  },
  {
   "cell_type": "code",
   "execution_count": 5,
   "id": "bbf508df-6c32-4ece-8c2e-16de0b28f230",
   "metadata": {},
   "outputs": [],
   "source": [
    "#Example for Abstracton\n",
    "import abc\n",
    "class pwskills:\n",
    "    @abc.abstractclassmethod\n",
    "    \n",
    "    def students_details(self):\n",
    "        pass\n",
    "    @abc.abstractclassmethod\n",
    "    \n",
    "    def student_assignment(self):\n",
    "        pass\n",
    "    @abc.abstractclassmethod\n",
    "    \n",
    "    def student_marks(self):\n",
    "        pass\n",
    "class student_details(pwskills):\n",
    "    \n",
    "    def student_details(self):\n",
    "        return \"this is a meth for taking students details\"\n",
    "    def student_assignment(self):\n",
    "        return \"this is a meth for student assignment\"\n",
    "class data_scient_master(pwskills):\n",
    "    \n",
    "    def students_details(self):\n",
    "        return \"this will return a student details for data science\"\n",
    "    def student_assignment(self):\n",
    "        return \"this will give you a student assignment for seience\""
   ]
  },
  {
   "cell_type": "code",
   "execution_count": 6,
   "id": "59f3c841-7ff6-4bc0-a2df-464fb7d5e441",
   "metadata": {},
   "outputs": [],
   "source": [
    "#Example for Encapsulation\n",
    "class bank_account:\n",
    "    def __init__(self , balance):\n",
    "        self.__balance = balance\n",
    "        \n",
    "    def deposit(self, amount):\n",
    "        self.__balance = self.__balance + amount\n",
    "    def withdrow(self , amount):\n",
    "        if self.__balance >= amount:\n",
    "            self.__balance = self.__balance - amount\n",
    "            return True\n",
    "        else:\n",
    "            return False\n",
    "    def get_balance(self):\n",
    "        return self.__balance\n"
   ]
  },
  {
   "cell_type": "markdown",
   "id": "b8cbccf4-fc71-4209-97fe-4521486e1957",
   "metadata": {},
   "source": [
    "Q3. What is abc module in python? Why is it used?"
   ]
  },
  {
   "cell_type": "markdown",
   "id": "b46cfd1e-f034-40de-83b1-528ce4679475",
   "metadata": {},
   "source": [
    "The abc module in Python stands for Abstract Base Classes. It provides the infrastructure for defining abstract base classes (ABCs), which are a way to define interfaces when other techniques like duck typing are not sufficient.\n",
    "\n",
    "Use for:-Enforcing Method Implementation, Preventing Instantiation, Type Checking"
   ]
  },
  {
   "cell_type": "markdown",
   "id": "e8c380e4-6648-4c95-af73-ef5a9bf1cbbf",
   "metadata": {},
   "source": [
    "Q4. How can we achieve data abstraction?"
   ]
  },
  {
   "cell_type": "markdown",
   "id": "575f2b57-a5ac-4aa9-9122-af7d26da7a05",
   "metadata": {},
   "source": [
    "Data abstraction in Object-Oriented Programming (OOP) is achieved by defining classes that expose only the necessary attributes and methods while hiding the internal implementation details. This allows users to interact with objects at a high level without needing to understand the complexities behind the scenes.\n",
    "\n",
    "How to Achieve Data Abstraction:-\n",
    "1.Using Abstract Classes and Methods\n",
    "2.Using Interfaces\n",
    "3.Encapsulation"
   ]
  },
  {
   "cell_type": "markdown",
   "id": "56b867bb-b326-4949-8b98-d963705d19c0",
   "metadata": {},
   "source": [
    "Q5. Can we create an instance of an abstract class? Explain your answer."
   ]
  },
  {
   "cell_type": "markdown",
   "id": "688b235e-8bf9-41d0-81f9-f6e4c939bcfd",
   "metadata": {},
   "source": [
    "No, you cannot create an instance of an abstract class directly. An abstract class is designed to be a blueprint for other classes. It can contain abstract methods (methods without a body) that must be implemented by its subclasses. The primary purpose of an abstract class is to provide a common interface and to enforce certain methods to be implemented in derived classes."
   ]
  },
  {
   "cell_type": "markdown",
   "id": "676f6a90-1447-4f00-abc9-b79304b84f1d",
   "metadata": {},
   "source": [
    "Can't Create reason:-\n",
    "1.Incomplete Implementation\n",
    "2.Design Purpose"
   ]
  },
  {
   "cell_type": "code",
   "execution_count": null,
   "id": "556249be-9482-46a4-bf1e-d747c7aea7f8",
   "metadata": {},
   "outputs": [],
   "source": []
  }
 ],
 "metadata": {
  "kernelspec": {
   "display_name": "Python 3 (ipykernel)",
   "language": "python",
   "name": "python3"
  },
  "language_info": {
   "codemirror_mode": {
    "name": "ipython",
    "version": 3
   },
   "file_extension": ".py",
   "mimetype": "text/x-python",
   "name": "python",
   "nbconvert_exporter": "python",
   "pygments_lexer": "ipython3",
   "version": "3.10.8"
  }
 },
 "nbformat": 4,
 "nbformat_minor": 5
}
