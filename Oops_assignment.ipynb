{
 "cells": [
  {
   "cell_type": "markdown",
   "id": "9ac2bcc2-9b42-44ad-a520-526dee8ece0e",
   "metadata": {},
   "source": [
    "Q1. Explain Class and Object with respect to Object-Oriented Programming. Give a suitable example."
   ]
  },
  {
   "cell_type": "markdown",
   "id": "1d567e45-06d7-4ad3-b41e-e571f82f35ce",
   "metadata": {},
   "source": [
    "A class is blueprint or tamplate that defines the properties and behaviours of the object class.\n",
    "\n",
    "For example, consider a class called Account. It defines attributes like name, id, and balance, along with methods like balanceInquiry() and withdrawMoney().\n",
    "\n",
    "An object is an instance of a class.It is a self-contained component that holds both data (attributes) and methods.\n",
    "\n",
    "For instance, if we have an Account class, we can create objects like SBI Account or ICICI Account.\n"
   ]
  },
  {
   "cell_type": "markdown",
   "id": "cafb531a-d544-4d93-bf90-73796b15183e",
   "metadata": {},
   "source": [
    "Q2. Name the four pillars of OOPs."
   ]
  },
  {
   "cell_type": "markdown",
   "id": "cbb46a30-3715-4bed-b998-f137340673d1",
   "metadata": {},
   "source": [
    "1. Abstraction\n",
    "2. Encapsulation\n",
    "3. Inheritance\n",
    "4. Polymorphism"
   ]
  },
  {
   "cell_type": "markdown",
   "id": "1a58466b-b5b8-4057-921a-a52bbb410390",
   "metadata": {},
   "source": [
    "Q3. Explain why the __init__() function is used. Give a suitable example."
   ]
  },
  {
   "cell_type": "markdown",
   "id": "73ccba19-c896-4efc-a1af-b3c2765c2942",
   "metadata": {},
   "source": [
    "The __init__() function in Python is a special method (also known as a constructor) that gets called automatically when an object of a class is created. Its purpose is to initialize the object’s attributes (data members) with specific values.\n",
    "\n"
   ]
  },
  {
   "cell_type": "code",
   "execution_count": 2,
   "id": "fea4771b-7a1f-4bb5-b47e-b89f46904868",
   "metadata": {},
   "outputs": [],
   "source": [
    "class pwskills2:\n",
    "    \n",
    "    def __init__(self , phone_number, email_id, student_id,):\n",
    "        self.phone_number1 = phone_number\n",
    "        self.email_id1 = email_id\n",
    "        self.student_id1 = student_id\n",
    "    def return_student_details(self):\n",
    "        return self.student_id1 , self.phone_number1, self.email_id1"
   ]
  },
  {
   "cell_type": "markdown",
   "id": "363f991c-85b3-4d14-af79-d1906be6d8f1",
   "metadata": {},
   "source": [
    "Q4. Why self is used in OOPs?"
   ]
  },
  {
   "cell_type": "markdown",
   "id": "a30bfeab-791f-4a92-9bfd-7c83ac04e66e",
   "metadata": {},
   "source": [
    "In Object-Oriented Programming (OOP), the self is keyword and use as pointer."
   ]
  },
  {
   "cell_type": "markdown",
   "id": "6392364a-65c3-4caa-a9f1-2f6e86541eab",
   "metadata": {},
   "source": [
    "Q5. What is inheritance? Give an example for each type of inheritance."
   ]
  },
  {
   "cell_type": "markdown",
   "id": "5b41bb90-6ec5-4800-accb-47ab4b62843c",
   "metadata": {},
   "source": [
    "Inheritance is a fundamental concept in Object-Oriented Programming (OOP) that allows you to create new classes based on existing ones. It promotes code reuse and hierarchy by sharing attributes and methods between classes. \n",
    "\n",
    "Single Inheritance:\n",
    "    Example: Consider a Bird superclass with a method fly(). A Parrot subclass can inherit the fly() method from Bird\n",
    "Multi-level Inheritance:\n",
    "    Example: Animal → Mammal → Dog. Here, Dog inherits from Mammal, which in turn inherits from Animal\n",
    "Multiple Inheritance:\n",
    "    Example: Suppose we have classes Engineer and Artist. A CreativeEngineer class can inherit from both, combining skills from both domains\n",
    "Hierarchical Inheritance:\n",
    "    Example: Vehicle → Car, Bike, Truck. All three subclasses share properties from the Vehicle class\n",
    "Hybrid Inheritance:\n",
    "    Example: Complex scenarios involving various inheritance patterns"
   ]
  },
  {
   "cell_type": "code",
   "execution_count": null,
   "id": "b93999e8-2cf1-4b25-9404-3753402a730c",
   "metadata": {},
   "outputs": [],
   "source": []
  }
 ],
 "metadata": {
  "kernelspec": {
   "display_name": "Python 3 (ipykernel)",
   "language": "python",
   "name": "python3"
  },
  "language_info": {
   "codemirror_mode": {
    "name": "ipython",
    "version": 3
   },
   "file_extension": ".py",
   "mimetype": "text/x-python",
   "name": "python",
   "nbconvert_exporter": "python",
   "pygments_lexer": "ipython3",
   "version": "3.10.8"
  }
 },
 "nbformat": 4,
 "nbformat_minor": 5
}
