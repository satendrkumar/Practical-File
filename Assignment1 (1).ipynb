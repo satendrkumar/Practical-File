{
 "cells": [
  {
   "cell_type": "code",
   "execution_count": 1,
   "id": "db912d78-6de8-446a-8c37-2b973ff2c489",
   "metadata": {},
   "outputs": [],
   "source": [
    "import pandas as pd"
   ]
  },
  {
   "cell_type": "code",
   "execution_count": 2,
   "id": "95070c26-31a9-4c0a-bcc4-cdffba92105f",
   "metadata": {},
   "outputs": [
    {
     "name": "stdout",
     "output_type": "stream",
     "text": [
      "Requirement already satisfied: pandas in /opt/conda/lib/python3.10/site-packages (1.5.2)\n",
      "Requirement already satisfied: python-dateutil>=2.8.1 in /opt/conda/lib/python3.10/site-packages (from pandas) (2.8.2)\n",
      "Requirement already satisfied: pytz>=2020.1 in /opt/conda/lib/python3.10/site-packages (from pandas) (2022.6)\n",
      "Requirement already satisfied: numpy>=1.21.0 in /opt/conda/lib/python3.10/site-packages (from pandas) (1.23.5)\n",
      "Requirement already satisfied: six>=1.5 in /opt/conda/lib/python3.10/site-packages (from python-dateutil>=2.8.1->pandas) (1.16.0)\n",
      "Note: you may need to restart the kernel to use updated packages.\n"
     ]
    }
   ],
   "source": [
    "pip install pandas"
   ]
  },
  {
   "cell_type": "code",
   "execution_count": 59,
   "id": "ebf7263d-d1ae-45a3-88d9-10037e749d8f",
   "metadata": {},
   "outputs": [],
   "source": [
    "#Assignment"
   ]
  },
  {
   "cell_type": "code",
   "execution_count": 61,
   "id": "afc283bf-f829-4a26-9800-a2e11695a749",
   "metadata": {},
   "outputs": [
    {
     "name": "stdout",
     "output_type": "stream",
     "text": [
      "0     4\n",
      "1     8\n",
      "2    15\n",
      "3    16\n",
      "4    23\n",
      "5    42\n",
      "dtype: int64\n"
     ]
    }
   ],
   "source": [
    "#Q1.\n",
    "import pandas as pd\n",
    "x=pd.Series([4,8,15,16,23,42])\n",
    "print(x)"
   ]
  },
  {
   "cell_type": "code",
   "execution_count": 52,
   "id": "c62c339e-55dc-4972-8720-165ca9c4a5e5",
   "metadata": {},
   "outputs": [
    {
     "data": {
      "text/plain": [
       "pandas.core.series.Series"
      ]
     },
     "execution_count": 52,
     "metadata": {},
     "output_type": "execute_result"
    }
   ],
   "source": [
    "type(x)"
   ]
  },
  {
   "cell_type": "code",
   "execution_count": 67,
   "id": "fbf3624d-b06b-4d83-b0e4-186a097e273b",
   "metadata": {},
   "outputs": [
    {
     "name": "stdout",
     "output_type": "stream",
     "text": [
      "[1, 2, 3, 4, 5, 6, 7, 8, 9, 10]\n"
     ]
    }
   ],
   "source": [
    "#Q2.\n",
    "x = [1,2,3,4,5,6,7,8,9,10]\n",
    "pd.Series(x)\n",
    "print(x)"
   ]
  },
  {
   "cell_type": "code",
   "execution_count": 91,
   "id": "720ce8d3-40be-479e-b633-1a8e5e59fefd",
   "metadata": {},
   "outputs": [
    {
     "name": "stdout",
     "output_type": "stream",
     "text": [
      "     Name  Age  Gender\n",
      "0   Alice   25  Female\n",
      "1     Bob   30    Male\n",
      "2  Claire   27  Female\n"
     ]
    }
   ],
   "source": [
    "#Q3.\n",
    "Emp_data = {'Name':['Alice','Bob','Claire'],\n",
    "            'Age':[25,30,27],\n",
    "            'Gender':['Female','Male','Female']}\n",
    "\n",
    "df=pd.DataFrame(Emp_data)\n",
    "print(df)"
   ]
  },
  {
   "cell_type": "code",
   "execution_count": null,
   "id": "0f1dcae6-4cdb-4a66-b38f-c4b8e06151f8",
   "metadata": {},
   "outputs": [],
   "source": [
    "#Q4.\n",
    "\"'DataFrame:- Data frame can have multiple columns.Data Frame can store more complex data.And pandas series can only have one colums. pands series can store more simple data.'\"\n"
   ]
  },
  {
   "cell_type": "code",
   "execution_count": 92,
   "id": "9b9e2c49-86d7-4ed3-a16e-f6e87fb07288",
   "metadata": {},
   "outputs": [
    {
     "name": "stdout",
     "output_type": "stream",
     "text": [
      "[1, 2, 3, 4]\n"
     ]
    }
   ],
   "source": [
    "#Example:PandasSeries\n",
    "x=[1,2,3,4]\n",
    "pd.Series(x)\n",
    "print(x)"
   ]
  },
  {
   "cell_type": "code",
   "execution_count": 94,
   "id": "1c8f846d-3a71-4638-be09-4296fa9bb351",
   "metadata": {},
   "outputs": [
    {
     "name": "stdout",
     "output_type": "stream",
     "text": [
      "    ID  Name     City\n",
      "0  101   Ram   Rampur\n",
      "1  102  Sonu  Sitapur\n"
     ]
    }
   ],
   "source": [
    "#Example:DataFrame\n",
    "df1={'ID':[101,102],\n",
    "    'Name':['Ram','Sonu'],\n",
    "    'City':['Rampur','Sitapur']}\n",
    "df2=pd.DataFrame(df1)\n",
    "print(df2)"
   ]
  },
  {
   "cell_type": "code",
   "execution_count": 99,
   "id": "4bb36f41-ba74-47b2-8cf8-af681129dc90",
   "metadata": {},
   "outputs": [
    {
     "data": {
      "text/html": [
       "<div>\n",
       "<style scoped>\n",
       "    .dataframe tbody tr th:only-of-type {\n",
       "        vertical-align: middle;\n",
       "    }\n",
       "\n",
       "    .dataframe tbody tr th {\n",
       "        vertical-align: top;\n",
       "    }\n",
       "\n",
       "    .dataframe thead th {\n",
       "        text-align: right;\n",
       "    }\n",
       "</style>\n",
       "<table border=\"1\" class=\"dataframe\">\n",
       "  <thead>\n",
       "    <tr style=\"text-align: right;\">\n",
       "      <th></th>\n",
       "      <th>ID</th>\n",
       "      <th>Name</th>\n",
       "      <th>City</th>\n",
       "    </tr>\n",
       "  </thead>\n",
       "  <tbody>\n",
       "    <tr>\n",
       "      <th>0</th>\n",
       "      <td>101</td>\n",
       "      <td>Ram</td>\n",
       "      <td>Rampur</td>\n",
       "    </tr>\n",
       "  </tbody>\n",
       "</table>\n",
       "</div>"
      ],
      "text/plain": [
       "    ID Name    City\n",
       "0  101  Ram  Rampur"
      ]
     },
     "execution_count": 99,
     "metadata": {},
     "output_type": "execute_result"
    }
   ],
   "source": [
    "#Q5.\n",
    "#Common function in pandas DataFrame:head(),tail(),read_csv(),read_html().\n",
    "df2.head(1)"
   ]
  },
  {
   "cell_type": "code",
   "execution_count": 111,
   "id": "2680768e-34cb-44fe-aec6-bd75f4f42880",
   "metadata": {},
   "outputs": [
    {
     "name": "stdout",
     "output_type": "stream",
     "text": [
      "   courses  fees  discount\n",
      "0    Excel  2000       100\n",
      "1   Python  5000       300\n",
      "2  Bigdata  3000       100\n"
     ]
    }
   ],
   "source": [
    "#Q7.\n",
    "courses = pd.Series([\"Excel\",\"Python\",\"Bigdata\"], name='courses')\n",
    "fees = pd.Series([2000,5000,3000], name='fees')\n",
    "discount  = pd.Series([100,300,100],name='discount')\n",
    "\n",
    "df=pd.concat([courses,fees,discount],axis=1)\n",
    "print(df)"
   ]
  },
  {
   "cell_type": "code",
   "execution_count": null,
   "id": "89024074-5892-4536-85f1-19c612088735",
   "metadata": {},
   "outputs": [],
   "source": []
  }
 ],
 "metadata": {
  "kernelspec": {
   "display_name": "Python 3 (ipykernel)",
   "language": "python",
   "name": "python3"
  },
  "language_info": {
   "codemirror_mode": {
    "name": "ipython",
    "version": 3
   },
   "file_extension": ".py",
   "mimetype": "text/x-python",
   "name": "python",
   "nbconvert_exporter": "python",
   "pygments_lexer": "ipython3",
   "version": "3.10.8"
  }
 },
 "nbformat": 4,
 "nbformat_minor": 5
}
