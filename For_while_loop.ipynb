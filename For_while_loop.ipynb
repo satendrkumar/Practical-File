{
 "cells": [
  {
   "cell_type": "markdown",
   "id": "42fb0ba9-cb86-4ed5-b8fb-8160a61c5c4e",
   "metadata": {},
   "source": [
    "Q1. Explain with an example each when to use a for loop and a while loop."
   ]
  },
  {
   "cell_type": "markdown",
   "id": "12103f83-0e72-425a-abbc-2281b77a7179",
   "metadata": {},
   "source": [
    "Use a for loop when the number of iterations is known or when you want to iterate over a sequence (such as a list, tuple, string, or any other iterable object)"
   ]
  },
  {
   "cell_type": "code",
   "execution_count": 2,
   "id": "c754f346-16fc-4ba7-a591-9045e42bc281",
   "metadata": {},
   "outputs": [
    {
     "name": "stdout",
     "output_type": "stream",
     "text": [
      "Apple\n",
      "Lemon\n",
      "Orange\n",
      "Strawberry\n"
     ]
    }
   ],
   "source": [
    "fruits = [\"Apple\", \"Lemon\", \"Orange\", \"Strawberry\"]\n",
    "for fruit in fruits:\n",
    "    print(fruit)\n",
    "    "
   ]
  },
  {
   "cell_type": "markdown",
   "id": "26fc1dba-9654-4439-ae87-80b82142b380",
   "metadata": {},
   "source": [
    "The while loop continues as long as the specified condition remains true.\n"
   ]
  },
  {
   "cell_type": "code",
   "execution_count": 3,
   "id": "77d738cd-fa8b-4d22-b37a-7f4977f4dc0b",
   "metadata": {},
   "outputs": [
    {
     "name": "stdout",
     "output_type": "stream",
     "text": [
      "10\n",
      "12\n",
      "14\n",
      "16\n",
      "18\n",
      "20\n",
      "22\n",
      "24\n",
      "26\n",
      "28\n",
      "30\n",
      "32\n",
      "34\n",
      "36\n",
      "38\n",
      "40\n",
      "42\n",
      "44\n",
      "46\n",
      "48\n",
      "50\n"
     ]
    }
   ],
   "source": [
    "num = 10\n",
    "while num <= 50:\n",
    "    print(num)\n",
    "    num += 2"
   ]
  },
  {
   "cell_type": "markdown",
   "id": "21867ae8-0ed3-48ae-94c3-7429c955d048",
   "metadata": {},
   "source": [
    "Q2. Write a python program to print the sum and product of the first 10 natural numbers using for\n",
    "and while loop."
   ]
  },
  {
   "cell_type": "code",
   "execution_count": 5,
   "id": "cfcb821b-d028-4d77-a3fd-bfb520c8b5f2",
   "metadata": {},
   "outputs": [
    {
     "name": "stdout",
     "output_type": "stream",
     "text": [
      "Sum of first 10 natural numbers: 55\n"
     ]
    }
   ],
   "source": [
    "n = 10\n",
    "answer = 0\n",
    "for i in range(1, n + 1):\n",
    "    answer = answer +i\n",
    "print(\"Sum of first\", n, \"natural numbers:\", answer)"
   ]
  },
  {
   "cell_type": "code",
   "execution_count": 7,
   "id": "3994752d-9deb-47e6-8008-864910fca8c8",
   "metadata": {},
   "outputs": [
    {
     "name": "stdout",
     "output_type": "stream",
     "text": [
      "Sum of the first 10 natural numbers: 55\n"
     ]
    }
   ],
   "source": [
    "def sum_of_natural_numbers(N):\n",
    "    total = 0\n",
    "    count = 1\n",
    "    while count <= N:\n",
    "        total += count\n",
    "        count += 1\n",
    "    return total\n",
    "\n",
    "N = 10\n",
    "result = sum_of_natural_numbers(N)\n",
    "print(\"Sum of the first\", N, \"natural numbers:\", result)"
   ]
  },
  {
   "cell_type": "markdown",
   "id": "c55e83ce-65a5-4e97-bd95-9ead1df79638",
   "metadata": {},
   "source": [
    "Q4. Create a list of numbers from 1 to 100. Use for loop and while loop to calculate the cube of each\n",
    "number and if the cube of that number is divisible by 4 or 5 then append that number in a list and print\n",
    "that list."
   ]
  },
  {
   "cell_type": "code",
   "execution_count": 17,
   "id": "0b905591-e06e-45a5-9ce4-74ee352806dc",
   "metadata": {},
   "outputs": [
    {
     "name": "stdout",
     "output_type": "stream",
     "text": [
      "[2, 4, 5, 6, 8, 10, 12, 14, 15, 16, 18, 20, 22, 24, 25, 26, 28, 30, 32, 34, 35, 36, 38, 40, 42, 44, 45, 46, 48, 50, 52, 54, 55, 56, 58, 60, 62, 64, 65, 66, 68, 70, 72, 74, 75, 76, 78, 80, 82, 84, 85, 86, 88, 90, 92, 94, 95, 96, 98, 100]\n"
     ]
    }
   ],
   "source": [
    "result_list = []\n",
    "for num in range(1, 101):\n",
    "    cube = num ** 3\n",
    "    if cube % 4 == 0 or cube % 5 == 0:\n",
    "        result_list.append(num)\n",
    "print(result_list)"
   ]
  },
  {
   "cell_type": "markdown",
   "id": "4a04e3d3-b33f-432e-897b-1ed72afc3dd0",
   "metadata": {},
   "source": [
    "Q5. Write a program to filter count vowels in the below-given string.\n",
    "string = \"I want to become a data scientist\""
   ]
  },
  {
   "cell_type": "code",
   "execution_count": 19,
   "id": "d5ec1df1-cbb6-4dd4-a26e-2c20446343bf",
   "metadata": {},
   "outputs": [
    {
     "name": "stdout",
     "output_type": "stream",
     "text": [
      "Total number of vowels in the proverb: 12\n"
     ]
    }
   ],
   "source": [
    "input_string = \"I want to become a data scientist\"\n",
    "count = 0\n",
    "String = input_string.lower()\n",
    "\n",
    "for vowel in String:\n",
    "    if vowel == 'a' or vowel == 'e' or vowel == 'i' or vowel == 'o' or vowel == 'u':\n",
    "        count += 1\n",
    "\n",
    "if count == 0:\n",
    "    print('No vowels found')\n",
    "else:\n",
    "    print('Total number of vowels in the proverb:', count)"
   ]
  },
  {
   "cell_type": "code",
   "execution_count": null,
   "id": "8af57091-d5a5-4a97-91a0-1f2ad0aa61a9",
   "metadata": {},
   "outputs": [],
   "source": []
  }
 ],
 "metadata": {
  "kernelspec": {
   "display_name": "Python 3 (ipykernel)",
   "language": "python",
   "name": "python3"
  },
  "language_info": {
   "codemirror_mode": {
    "name": "ipython",
    "version": 3
   },
   "file_extension": ".py",
   "mimetype": "text/x-python",
   "name": "python",
   "nbconvert_exporter": "python",
   "pygments_lexer": "ipython3",
   "version": "3.10.8"
  }
 },
 "nbformat": 4,
 "nbformat_minor": 5
}
