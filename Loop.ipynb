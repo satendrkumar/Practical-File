{
 "cells": [
  {
   "cell_type": "code",
   "execution_count": 1,
   "id": "4a9298d5-2668-42d1-b0a4-4ad346a60fe4",
   "metadata": {},
   "outputs": [],
   "source": [
    "d = {}"
   ]
  },
  {
   "cell_type": "code",
   "execution_count": 3,
   "id": "73b085e7-00b8-449c-b8c0-bfd384b9a070",
   "metadata": {},
   "outputs": [
    {
     "data": {
      "text/plain": [
       "dict"
      ]
     },
     "execution_count": 3,
     "metadata": {},
     "output_type": "execute_result"
    }
   ],
   "source": [
    "type(d)"
   ]
  },
  {
   "cell_type": "code",
   "execution_count": 4,
   "id": "461977ef-8e80-4010-9e19-bec4fe0b71c8",
   "metadata": {},
   "outputs": [],
   "source": [
    "d1 = {'key' : \"sudh\"}"
   ]
  },
  {
   "cell_type": "code",
   "execution_count": 5,
   "id": "a0cf917c-a273-4024-bbee-2d641bf1c508",
   "metadata": {},
   "outputs": [
    {
     "data": {
      "text/plain": [
       "{'key': 'sudh'}"
      ]
     },
     "execution_count": 5,
     "metadata": {},
     "output_type": "execute_result"
    }
   ],
   "source": [
    "d1"
   ]
  },
  {
   "cell_type": "code",
   "execution_count": 6,
   "id": "cc698765-0e24-4588-87a7-d65217e86ed7",
   "metadata": {},
   "outputs": [],
   "source": [
    "d2 = {'name' : \"sudhanshu\",'email' : \"sudh@gmail.com\",\n",
    "      'number' : 740682448}"
   ]
  },
  {
   "cell_type": "code",
   "execution_count": 7,
   "id": "09ddaef1-09e1-4bc8-b01c-a8687aefbb58",
   "metadata": {},
   "outputs": [
    {
     "data": {
      "text/plain": [
       "{'name': 'sudhanshu', 'email': 'sudh@gmail.com', 'number': 740682448}"
      ]
     },
     "execution_count": 7,
     "metadata": {},
     "output_type": "execute_result"
    }
   ],
   "source": [
    "d2"
   ]
  },
  {
   "cell_type": "code",
   "execution_count": 14,
   "id": "0e6635a0-895d-4e7e-b421-689580125c43",
   "metadata": {},
   "outputs": [],
   "source": [
    "d3 = {234 :'sudh','@abc' : 'sudh',True : 12}"
   ]
  },
  {
   "cell_type": "code",
   "execution_count": 15,
   "id": "bec4ca46-7792-46c4-949d-51441cfb3b92",
   "metadata": {},
   "outputs": [
    {
     "data": {
      "text/plain": [
       "{234: 'sudh', '@abc': 'sudh', True: 12}"
      ]
     },
     "execution_count": 15,
     "metadata": {},
     "output_type": "execute_result"
    }
   ],
   "source": [
    "d3"
   ]
  },
  {
   "cell_type": "code",
   "execution_count": 17,
   "id": "0a9fe6eb-1875-4902-af49-7318b12244fb",
   "metadata": {},
   "outputs": [
    {
     "data": {
      "text/plain": [
       "'sudh'"
      ]
     },
     "execution_count": 17,
     "metadata": {},
     "output_type": "execute_result"
    }
   ],
   "source": [
    "d3[234]"
   ]
  },
  {
   "cell_type": "code",
   "execution_count": 18,
   "id": "f6ab57fc-6c64-4909-a535-f7b209a282e1",
   "metadata": {},
   "outputs": [
    {
     "data": {
      "text/plain": [
       "12"
      ]
     },
     "execution_count": 18,
     "metadata": {},
     "output_type": "execute_result"
    }
   ],
   "source": [
    "d3[True]"
   ]
  },
  {
   "cell_type": "code",
   "execution_count": 22,
   "id": "579e23f7-26b7-4e5c-a484-0673a0b3b083",
   "metadata": {},
   "outputs": [
    {
     "data": {
      "text/plain": [
       "12"
      ]
     },
     "execution_count": 22,
     "metadata": {},
     "output_type": "execute_result"
    }
   ],
   "source": [
    "d3[1]"
   ]
  },
  {
   "cell_type": "code",
   "execution_count": 23,
   "id": "6a837014-1c8d-46a1-b70b-125f6e5a9110",
   "metadata": {},
   "outputs": [],
   "source": [
    "d4 = {'name':\"sudh\",'mail_id':'sudh@gmail.com','name':'sudhuanshu'}"
   ]
  },
  {
   "cell_type": "code",
   "execution_count": 24,
   "id": "f8a35dac-215d-4342-bedc-3a75d3751b9b",
   "metadata": {},
   "outputs": [
    {
     "data": {
      "text/plain": [
       "{'name': 'sudhuanshu', 'mail_id': 'sudh@gmail.com'}"
      ]
     },
     "execution_count": 24,
     "metadata": {},
     "output_type": "execute_result"
    }
   ],
   "source": [
    "d4"
   ]
  },
  {
   "cell_type": "code",
   "execution_count": 25,
   "id": "f778801b-7c55-4f37-a9ae-abc385512fd9",
   "metadata": {},
   "outputs": [
    {
     "data": {
      "text/plain": [
       "'sudhuanshu'"
      ]
     },
     "execution_count": 25,
     "metadata": {},
     "output_type": "execute_result"
    }
   ],
   "source": [
    "d4['name']"
   ]
  },
  {
   "cell_type": "code",
   "execution_count": 26,
   "id": "2e3bb490-0756-42a3-93aa-854b6d82ac1c",
   "metadata": {},
   "outputs": [
    {
     "data": {
      "text/plain": [
       "'sudh@gmail.com'"
      ]
     },
     "execution_count": 26,
     "metadata": {},
     "output_type": "execute_result"
    }
   ],
   "source": [
    "d4['mail_id']"
   ]
  },
  {
   "cell_type": "code",
   "execution_count": 28,
   "id": "f1ff6381-f4ba-4ae8-9901-d888cf16d7ea",
   "metadata": {},
   "outputs": [],
   "source": [
    "d5 = {'company':'pwskils',\n",
    "    'courses':['web dev','data science',\n",
    "               'java with system desigen']}\n"
   ]
  },
  {
   "cell_type": "code",
   "execution_count": 29,
   "id": "11c08aad-dca8-4a2c-8c0a-3a2fd7f65d75",
   "metadata": {},
   "outputs": [
    {
     "data": {
      "text/plain": [
       "{'company': 'pwskils',\n",
       " 'courses': ['web dev', 'data science', 'java with system desigen']}"
      ]
     },
     "execution_count": 29,
     "metadata": {},
     "output_type": "execute_result"
    }
   ],
   "source": [
    "d5"
   ]
  },
  {
   "cell_type": "code",
   "execution_count": 30,
   "id": "a595c965-577f-4f9d-a837-51a646f40bc9",
   "metadata": {},
   "outputs": [
    {
     "data": {
      "text/plain": [
       "['web dev', 'data science', 'java with system desigen']"
      ]
     },
     "execution_count": 30,
     "metadata": {},
     "output_type": "execute_result"
    }
   ],
   "source": [
    "d5['courses']"
   ]
  },
  {
   "cell_type": "code",
   "execution_count": 31,
   "id": "40d8d939-d5c6-4b80-9cfc-62ddd698599b",
   "metadata": {},
   "outputs": [
    {
     "data": {
      "text/plain": [
       "'java with system desigen'"
      ]
     },
     "execution_count": 31,
     "metadata": {},
     "output_type": "execute_result"
    }
   ],
   "source": [
    "d5['courses'][2]"
   ]
  },
  {
   "cell_type": "code",
   "execution_count": 32,
   "id": "4549704d-b43a-42c6-b11e-d4f7fd033b68",
   "metadata": {},
   "outputs": [],
   "source": [
    "d6 = {'number':[2,3,4,34,3],'assignment':(1,2,3,4,5,6,),'launch_date':{23,12,14},'class_time':{'web_dev':8,'data science':5,'system design':\n",
    "                                                                                               10}}"
   ]
  },
  {
   "cell_type": "code",
   "execution_count": 34,
   "id": "60cdd1d2-eb37-4783-98f1-82d27b00d795",
   "metadata": {},
   "outputs": [
    {
     "data": {
      "text/plain": [
       "{'number': [2, 3, 4, 34, 3],\n",
       " 'assignment': (1, 2, 3, 4, 5, 6),\n",
       " 'launch_date': {12, 14, 23},\n",
       " 'class_time': {'web_dev': 8, 'data science': 5, 'system design': 10}}"
      ]
     },
     "execution_count": 34,
     "metadata": {},
     "output_type": "execute_result"
    }
   ],
   "source": [
    "d6"
   ]
  },
  {
   "cell_type": "code",
   "execution_count": 38,
   "id": "36406de9-c2a7-47d6-b79a-67fb4afcf0cf",
   "metadata": {},
   "outputs": [
    {
     "data": {
      "text/plain": [
       "10"
      ]
     },
     "execution_count": 38,
     "metadata": {},
     "output_type": "execute_result"
    }
   ],
   "source": [
    "d6['class_time']['system design']"
   ]
  },
  {
   "cell_type": "code",
   "execution_count": 39,
   "id": "454db661-08a7-4a0b-a6da-03bfab4fe154",
   "metadata": {},
   "outputs": [],
   "source": [
    "d6['mentor'] = ['sudhanshu','krish','hayder','anurag']"
   ]
  },
  {
   "cell_type": "code",
   "execution_count": 40,
   "id": "13ec8dae-4958-4863-9b93-fdb460e6240d",
   "metadata": {},
   "outputs": [
    {
     "data": {
      "text/plain": [
       "{'number': [2, 3, 4, 34, 3],\n",
       " 'assignment': (1, 2, 3, 4, 5, 6),\n",
       " 'launch_date': {12, 14, 23},\n",
       " 'class_time': {'web_dev': 8, 'data science': 5, 'system design': 10},\n",
       " 'mentor': ['sudhanshu', 'krish', 'hayder', 'anurag']}"
      ]
     },
     "execution_count": 40,
     "metadata": {},
     "output_type": "execute_result"
    }
   ],
   "source": [
    "d6"
   ]
  },
  {
   "cell_type": "code",
   "execution_count": 41,
   "id": "cbb3fbff-8770-4c66-ac05-e0ed87923822",
   "metadata": {},
   "outputs": [],
   "source": [
    "del d6['number']"
   ]
  },
  {
   "cell_type": "code",
   "execution_count": 42,
   "id": "698c7149-0569-4013-947a-3b555dcee371",
   "metadata": {},
   "outputs": [
    {
     "data": {
      "text/plain": [
       "{'assignment': (1, 2, 3, 4, 5, 6),\n",
       " 'launch_date': {12, 14, 23},\n",
       " 'class_time': {'web_dev': 8, 'data science': 5, 'system design': 10},\n",
       " 'mentor': ['sudhanshu', 'krish', 'hayder', 'anurag']}"
      ]
     },
     "execution_count": 42,
     "metadata": {},
     "output_type": "execute_result"
    }
   ],
   "source": [
    "d6"
   ]
  },
  {
   "cell_type": "code",
   "execution_count": 44,
   "id": "a1d02861-14f7-4f3b-8eef-5cbe1e14dd29",
   "metadata": {},
   "outputs": [
    {
     "data": {
      "text/plain": [
       "dict_keys(['assignment', 'launch_date', 'class_time', 'mentor'])"
      ]
     },
     "execution_count": 44,
     "metadata": {},
     "output_type": "execute_result"
    }
   ],
   "source": [
    "d6.keys()"
   ]
  },
  {
   "cell_type": "code",
   "execution_count": 45,
   "id": "855d0368-fc1b-40b6-ac9c-af72723025fa",
   "metadata": {},
   "outputs": [
    {
     "data": {
      "text/plain": [
       "['assignment', 'launch_date', 'class_time', 'mentor']"
      ]
     },
     "execution_count": 45,
     "metadata": {},
     "output_type": "execute_result"
    }
   ],
   "source": [
    "list(d6.keys())"
   ]
  },
  {
   "cell_type": "code",
   "execution_count": null,
   "id": "47c465fa-6cc2-4e3a-b101-b60f09cfe84a",
   "metadata": {},
   "outputs": [],
   "source": [
    "list(d6.items())"
   ]
  },
  {
   "cell_type": "code",
   "execution_count": 2,
   "id": "8ec9b5f7-bc87-4345-816b-9d57105c38ef",
   "metadata": {},
   "outputs": [],
   "source": [
    "d6 = {'assignment': (1, 2, 3, 4, 5, 6),\n",
    " 'launch_date': {12, 14, 23},\n",
    " 'class_time': {'web_dev': 8, 'data science': 5, 'system design': 10},\n",
    " 'mentor': ['sudhanshu', 'krish', 'hayder', 'anurag']}\n"
   ]
  },
  {
   "cell_type": "code",
   "execution_count": 3,
   "id": "39f4d014-740d-4f8f-8461-5824d9879538",
   "metadata": {},
   "outputs": [
    {
     "data": {
      "text/plain": [
       "{'assignment': (1, 2, 3, 4, 5, 6),\n",
       " 'launch_date': {12, 14, 23},\n",
       " 'class_time': {'web_dev': 8, 'data science': 5, 'system design': 10},\n",
       " 'mentor': ['sudhanshu', 'krish', 'hayder', 'anurag']}"
      ]
     },
     "execution_count": 3,
     "metadata": {},
     "output_type": "execute_result"
    }
   ],
   "source": [
    "d6"
   ]
  },
  {
   "cell_type": "code",
   "execution_count": 7,
   "id": "9f0f918a-e848-49e4-b576-e62afb70674f",
   "metadata": {},
   "outputs": [
    {
     "data": {
      "text/plain": [
       "['sudhanshu', 'krish', 'hayder', 'anurag']"
      ]
     },
     "execution_count": 7,
     "metadata": {},
     "output_type": "execute_result"
    }
   ],
   "source": [
    "d6.pop('mentor')"
   ]
  },
  {
   "cell_type": "code",
   "execution_count": 8,
   "id": "917feb50-1f72-4939-b7b8-0af7b8d49f9b",
   "metadata": {},
   "outputs": [
    {
     "data": {
      "text/plain": [
       "{'assignment': (1, 2, 3, 4, 5, 6),\n",
       " 'launch_date': {12, 14, 23},\n",
       " 'class_time': {'web_dev': 8, 'data science': 5, 'system design': 10}}"
      ]
     },
     "execution_count": 8,
     "metadata": {},
     "output_type": "execute_result"
    }
   ],
   "source": [
    "d6"
   ]
  },
  {
   "cell_type": "code",
   "execution_count": 33,
   "id": "10c461d0-b232-4c08-9796-eb20ecfba7b6",
   "metadata": {},
   "outputs": [
    {
     "name": "stdin",
     "output_type": "stream",
     "text": [
      "enter your marks  80\n"
     ]
    },
    {
     "name": "stdout",
     "output_type": "stream",
     "text": [
      "you will be a part of AB batch\n"
     ]
    }
   ],
   "source": [
    "marks = int(input(\"enter your marks \" ))\n",
    "if marks >= 80:\n",
    "    print(\"you will be a part of AB batch\")\n",
    "elif marks >= 60 and marks< 80:\n",
    "    print(\"you will be part of A1 batch\")\n",
    "elif marks >= 40 and marks< 60:\n",
    "    print(\"you will be part of A2 batch\")\n",
    "else :\n",
    "    print(\"you will be part of A3 batch\")"
   ]
  },
  {
   "cell_type": "code",
   "execution_count": null,
   "id": "30b92495-1c9b-4f69-96d4-113c472a934e",
   "metadata": {},
   "outputs": [],
   "source": [
    "type(marks)"
   ]
  },
  {
   "cell_type": "code",
   "execution_count": 95,
   "id": "830bcc2b-5c2d-4d72-a994-80545a35f71f",
   "metadata": {},
   "outputs": [
    {
     "name": "stdin",
     "output_type": "stream",
     "text": [
      "enter price -05\n"
     ]
    },
    {
     "name": "stdout",
     "output_type": "stream",
     "text": [
      "not interested\n"
     ]
    }
   ],
   "source": [
    "price = int(input(\"enter price\"))\n",
    "if price > 1000:\n",
    "    print(\" i will not purchage\")\n",
    "    if price > 5000:\n",
    "        print('this is too much')\n",
    "    elif price < 2000:\n",
    "            print('its ok')\n",
    "elif price > 500:\n",
    "    print('i will purhase')\n",
    "else :\n",
    "    print('not interested')\n",
    "\n",
    "           "
   ]
  },
  {
   "cell_type": "code",
   "execution_count": 7,
   "id": "b14a1d75-ad90-410e-9f92-e80927711424",
   "metadata": {},
   "outputs": [
    {
     "name": "stdin",
     "output_type": "stream",
     "text": [
      "enter price 25\n"
     ]
    },
    {
     "name": "stdout",
     "output_type": "stream",
     "text": [
      "i will purchage\n"
     ]
    }
   ],
   "source": [
    "price = int(input(\"enter price\"))\n",
    "if price >100:\n",
    "    print(\"i will not purchage\")\n",
    "    if price > 200:\n",
    "        print(\"this is too much\")\n",
    "elif price > 300:\n",
    "        print(\"its ok\")\n",
    "elif price < 50:\n",
    "        print(\"i will purchage\")\n",
    "else :\n",
    "        print(\"not interested\")"
   ]
  },
  {
   "cell_type": "code",
   "execution_count": 9,
   "id": "40b917d6-2a73-4dfb-abc9-320ddfba3d1f",
   "metadata": {},
   "outputs": [],
   "source": [
    "l = [1,2,3,4,5,6,7,8,9]"
   ]
  },
  {
   "cell_type": "code",
   "execution_count": 10,
   "id": "0e73849e-ebe5-4c7c-90cb-1539de652803",
   "metadata": {},
   "outputs": [
    {
     "data": {
      "text/plain": [
       "[1, 2, 3, 4, 5, 6, 7, 8, 9]"
      ]
     },
     "execution_count": 10,
     "metadata": {},
     "output_type": "execute_result"
    }
   ],
   "source": [
    "l"
   ]
  },
  {
   "cell_type": "code",
   "execution_count": 12,
   "id": "5e99fae6-67e6-4d4a-908a-77c70dde8fc2",
   "metadata": {},
   "outputs": [
    {
     "data": {
      "text/plain": [
       "2"
      ]
     },
     "execution_count": 12,
     "metadata": {},
     "output_type": "execute_result"
    }
   ],
   "source": [
    "l[0]+1"
   ]
  },
  {
   "cell_type": "code",
   "execution_count": 15,
   "id": "59fe788e-18ca-4a20-bd23-a14b3a312228",
   "metadata": {},
   "outputs": [],
   "source": [
    "l1 = []"
   ]
  },
  {
   "cell_type": "code",
   "execution_count": 18,
   "id": "23763af8-352b-47df-a5bf-71ffc5da40fa",
   "metadata": {},
   "outputs": [],
   "source": [
    "l1.append(l[0] +1)"
   ]
  },
  {
   "cell_type": "code",
   "execution_count": 19,
   "id": "56950fdc-32f0-4c5f-abbe-afae9e623d6c",
   "metadata": {},
   "outputs": [
    {
     "data": {
      "text/plain": [
       "[2]"
      ]
     },
     "execution_count": 19,
     "metadata": {},
     "output_type": "execute_result"
    }
   ],
   "source": [
    "l1"
   ]
  },
  {
   "cell_type": "code",
   "execution_count": 25,
   "id": "dec1403f-233a-48cf-ab6f-487ee85362e5",
   "metadata": {},
   "outputs": [
    {
     "name": "stdout",
     "output_type": "stream",
     "text": [
      "1\n",
      "2\n",
      "3\n",
      "4\n",
      "5\n",
      "6\n",
      "7\n",
      "8\n",
      "9\n"
     ]
    }
   ],
   "source": [
    "for i in l :\n",
    "    print(i)"
   ]
  },
  {
   "cell_type": "code",
   "execution_count": 28,
   "id": "0feaf8bf-c431-45ce-802c-18662d0c8e98",
   "metadata": {},
   "outputs": [
    {
     "name": "stdout",
     "output_type": "stream",
     "text": [
      "2\n",
      "3\n",
      "4\n",
      "5\n",
      "6\n",
      "7\n",
      "8\n",
      "9\n",
      "10\n"
     ]
    },
    {
     "data": {
      "text/plain": [
       "[2, 3, 4, 5, 6, 7, 8, 9, 10]"
      ]
     },
     "execution_count": 28,
     "metadata": {},
     "output_type": "execute_result"
    }
   ],
   "source": [
    "l1 = []\n",
    "for i in l:\n",
    "    print(i+1)\n",
    "    l1.append(i+1)\n",
    "l1"
   ]
  },
  {
   "cell_type": "code",
   "execution_count": 29,
   "id": "0f90e67e-ebc8-47b6-8fea-e9a05698b947",
   "metadata": {},
   "outputs": [],
   "source": [
    "l2 = [\"sudh\",\"kumar\",\"pwskills\",\"course\"]"
   ]
  },
  {
   "cell_type": "code",
   "execution_count": 30,
   "id": "d5cf821f-227b-4e1c-8366-1a2b35f60fa1",
   "metadata": {},
   "outputs": [
    {
     "data": {
      "text/plain": [
       "['sudh', 'kumar', 'pwskills', 'course']"
      ]
     },
     "execution_count": 30,
     "metadata": {},
     "output_type": "execute_result"
    }
   ],
   "source": [
    "l2"
   ]
  },
  {
   "cell_type": "code",
   "execution_count": 35,
   "id": "8e85717e-af30-41cd-9a02-742409b2fee6",
   "metadata": {},
   "outputs": [
    {
     "name": "stdout",
     "output_type": "stream",
     "text": [
      "sudh\n",
      "kumar\n",
      "pwskills\n",
      "course\n"
     ]
    }
   ],
   "source": [
    "for i in l2:\n",
    "    print(i)"
   ]
  },
  {
   "cell_type": "code",
   "execution_count": 36,
   "id": "e8ec1a0a-bf53-42af-a313-7e2e14180bb8",
   "metadata": {},
   "outputs": [
    {
     "name": "stdout",
     "output_type": "stream",
     "text": [
      "sudh\n",
      "kumar\n",
      "pwskills\n",
      "course\n"
     ]
    }
   ],
   "source": [
    "l1 = []\n",
    "for i in l2:\n",
    "    print(i)\n",
    "    l1.append(i.upper())"
   ]
  },
  {
   "cell_type": "code",
   "execution_count": 37,
   "id": "0f167121-6aa3-420c-9163-748253e46d9f",
   "metadata": {},
   "outputs": [
    {
     "data": {
      "text/plain": [
       "['SUDH', 'KUMAR', 'PWSKILLS', 'COURSE']"
      ]
     },
     "execution_count": 37,
     "metadata": {},
     "output_type": "execute_result"
    }
   ],
   "source": [
    "l1"
   ]
  },
  {
   "cell_type": "code",
   "execution_count": 38,
   "id": "2b49472b-ccb1-48c1-98d6-325fcaea1847",
   "metadata": {},
   "outputs": [],
   "source": [
    "l = [1,2,3,4,4,\"sudh\",\"kumar\",324,34.34,\"abc\"]"
   ]
  },
  {
   "cell_type": "code",
   "execution_count": 39,
   "id": "b9b10023-8d97-420a-bf68-d0e56f3c61da",
   "metadata": {},
   "outputs": [],
   "source": [
    "l1_num = []\n",
    "l2_str = []\n",
    "for i in l:\n",
    "    if type(i) == int or type(i) == float :\n",
    "        l1_num.append(i)\n",
    "    else :\n",
    "        l2_str.append(i)"
   ]
  },
  {
   "cell_type": "code",
   "execution_count": 40,
   "id": "5dc02bb5-378d-4015-a1d7-a8ce016907cf",
   "metadata": {},
   "outputs": [
    {
     "data": {
      "text/plain": [
       "[1, 2, 3, 4, 4, 324, 34.34]"
      ]
     },
     "execution_count": 40,
     "metadata": {},
     "output_type": "execute_result"
    }
   ],
   "source": [
    "l1_num"
   ]
  },
  {
   "cell_type": "code",
   "execution_count": 41,
   "id": "cee563cd-4af5-4fe8-ad6e-48bf37fe5262",
   "metadata": {},
   "outputs": [
    {
     "data": {
      "text/plain": [
       "['sudh', 'kumar', 'abc']"
      ]
     },
     "execution_count": 41,
     "metadata": {},
     "output_type": "execute_result"
    }
   ],
   "source": [
    "l2_str"
   ]
  },
  {
   "cell_type": "code",
   "execution_count": null,
   "id": "28285a14-b6a2-46e5-8c4c-65cfee627a0e",
   "metadata": {},
   "outputs": [],
   "source": []
  }
 ],
 "metadata": {
  "kernelspec": {
   "display_name": "Python 3 (ipykernel)",
   "language": "python",
   "name": "python3"
  },
  "language_info": {
   "codemirror_mode": {
    "name": "ipython",
    "version": 3
   },
   "file_extension": ".py",
   "mimetype": "text/x-python",
   "name": "python",
   "nbconvert_exporter": "python",
   "pygments_lexer": "ipython3",
   "version": "3.10.8"
  }
 },
 "nbformat": 4,
 "nbformat_minor": 5
}
