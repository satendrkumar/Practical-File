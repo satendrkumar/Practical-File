{
 "cells": [
  {
   "cell_type": "markdown",
   "id": "40f855c1-f952-4f56-b8ad-4a21b56577dc",
   "metadata": {},
   "source": [
    "Q1. Which keyword is used to create a function?\n",
    "Ans- def"
   ]
  },
  {
   "cell_type": "code",
   "execution_count": 2,
   "id": "8392d8c1-78b0-49cb-94bb-dfa608a5731f",
   "metadata": {},
   "outputs": [],
   "source": [
    "def listOfOdd():\n",
    "    \"\"\"Returns a list of odd numbers in the range of 1 to 25.\"\"\"\n",
    "    l1 = []\n",
    "    for i in range(1, 25):\n",
    "        if i % 2 != 0:\n",
    "            l1.append(i)\n",
    "    return l1"
   ]
  },
  {
   "cell_type": "code",
   "execution_count": 3,
   "id": "32a8443f-676b-4c17-bf3b-c12b3b03ede8",
   "metadata": {},
   "outputs": [
    {
     "data": {
      "text/plain": [
       "[1, 3, 5, 7, 9, 11, 13, 15, 17, 19, 21, 23]"
      ]
     },
     "execution_count": 3,
     "metadata": {},
     "output_type": "execute_result"
    }
   ],
   "source": [
    "listOfOdd()"
   ]
  },
  {
   "cell_type": "markdown",
   "id": "d09d8a57-0c62-4cf9-a390-ec04b418dbb8",
   "metadata": {},
   "source": [
    "Q2. Why *args and **kwargs is used in some functions? Create a function each for *args and **kwargs\n",
    "to demonstrate their use."
   ]
  },
  {
   "cell_type": "markdown",
   "id": "da6d1db3-47c4-4edd-bb6a-796adce2e9f0",
   "metadata": {},
   "source": [
    "The *args syntax allows you to pass a variable number of non-keyworded arguments to a function.\n"
   ]
  },
  {
   "cell_type": "code",
   "execution_count": 5,
   "id": "b90c2b00-6549-45e7-8e5b-f2adfc3569b7",
   "metadata": {},
   "outputs": [],
   "source": [
    "def myFun(*args):\n",
    "    for arg in args:\n",
    "        print(arg)"
   ]
  },
  {
   "cell_type": "code",
   "execution_count": 6,
   "id": "05e5b736-fc0c-4f1d-9abb-ee96a3184283",
   "metadata": {},
   "outputs": [
    {
     "name": "stdout",
     "output_type": "stream",
     "text": [
      "sudh\n",
      "kumar\n"
     ]
    }
   ],
   "source": [
    "myFun(\"sudh\",\"kumar\")\n"
   ]
  },
  {
   "cell_type": "markdown",
   "id": "5f685e8e-b018-4899-b1a8-6d60405d1bbe",
   "metadata": {},
   "source": [
    "The **kwargs syntax allows you to pass a variable number of keyword arguments (key-value pairs) to a function."
   ]
  },
  {
   "cell_type": "code",
   "execution_count": 7,
   "id": "cc7d725d-f0d1-4f95-a993-cfae276bedf8",
   "metadata": {},
   "outputs": [],
   "source": [
    "def myFun(**kwargs):\n",
    "    for key, value in kwargs.items():\n",
    "        print(f\"{key}: {value}\")"
   ]
  },
  {
   "cell_type": "code",
   "execution_count": 9,
   "id": "8e54bc69-25e7-4646-a1a3-d2638209db49",
   "metadata": {},
   "outputs": [
    {
     "name": "stdout",
     "output_type": "stream",
     "text": [
      "a: [1, 3, 4]\n",
      "b: pwskils\n"
     ]
    }
   ],
   "source": [
    "myFun(a= [1,3,4] , b= 'pwskils')"
   ]
  },
  {
   "cell_type": "markdown",
   "id": "9db03d16-ff4c-4a3c-9882-4c7fd8a369ae",
   "metadata": {},
   "source": [
    "Q3. What is an iterator in python? Name the method used to initialise the iterator object and the method\n",
    "used for iteration. Use these methods to print the first five elements of the given list [2, 4, 6, 8, 10, 12, 14,\n",
    "16, 18, 20]."
   ]
  },
  {
   "cell_type": "markdown",
   "id": "6142fa92-3d37-4ce5-91e3-0ab510e64aec",
   "metadata": {},
   "source": [
    "An iterator in Python is an object that allows you to traverse through a collection of elements,"
   ]
  },
  {
   "cell_type": "code",
   "execution_count": 10,
   "id": "4817d3fb-a2bc-4631-a495-bcbeb79dd2df",
   "metadata": {},
   "outputs": [
    {
     "name": "stdout",
     "output_type": "stream",
     "text": [
      "2\n",
      "4\n",
      "6\n",
      "8\n",
      "10\n"
     ]
    }
   ],
   "source": [
    "my_list = [2, 4, 6, 8, 10, 12, 14, 16, 18, 20]\n",
    "my_iterator = iter(my_list)\n",
    "\n",
    "for _ in range(5):\n",
    "    print(next(my_iterator))"
   ]
  },
  {
   "cell_type": "markdown",
   "id": "3085a6f6-9e66-414a-a331-4f66a25d40e5",
   "metadata": {},
   "source": [
    "Q4. What is a generator function in python? Why yield keyword is used? Give an example of a generator\n",
    "function."
   ]
  },
  {
   "cell_type": "markdown",
   "id": "88c1c9b9-642c-47de-9fe9-05f0c80431cd",
   "metadata": {},
   "source": [
    "A generator function is a special kind of function that creates an iterator."
   ]
  },
  {
   "cell_type": "markdown",
   "id": "d6b5b86d-4ce3-4a67-a900-6fca3f25883d",
   "metadata": {},
   "source": [
    "The yield keyword is the cornerstone of a generator function."
   ]
  },
  {
   "cell_type": "code",
   "execution_count": 13,
   "id": "bc2aba33-7c10-46eb-934a-16ad15fa31fe",
   "metadata": {},
   "outputs": [],
   "source": [
    "def count_up_to(n):\n",
    "    i = 1\n",
    "    while i <= n:\n",
    "        yield i\n",
    "        i += 1\n"
   ]
  },
  {
   "cell_type": "markdown",
   "id": "59829445-d2bd-4670-ba0c-4834f84d3869",
   "metadata": {},
   "source": [
    "Q5. Create a generator function for prime numbers less than 1000. Use the next() method to print the\n",
    "first 20 prime numbers."
   ]
  },
  {
   "cell_type": "code",
   "execution_count": 14,
   "id": "0b2ee385-44c5-41c0-9a67-1c345ec46bda",
   "metadata": {},
   "outputs": [],
   "source": [
    "def is_prime(n):\n",
    "    \"\"\"Check if a number is prime.\"\"\"\n",
    "    if n < 2:\n",
    "        return False\n",
    "    for i in range(2, int(n**0.5) + 1):\n",
    "        if n % i == 0:\n",
    "            return False\n",
    "    return True\n",
    "\n",
    "def prime_numbers():\n",
    "    \"\"\"Generator function for prime numbers less than 1000.\"\"\"\n",
    "    num = 2\n",
    "    count = 0\n",
    "    while count < 20:\n",
    "        if is_prime(num):\n",
    "            yield num\n",
    "            count += 1\n",
    "        num += 1"
   ]
  },
  {
   "cell_type": "code",
   "execution_count": 16,
   "id": "aaf9f4ab-4b4b-4bea-80f7-e8469ebe72db",
   "metadata": {},
   "outputs": [
    {
     "name": "stdout",
     "output_type": "stream",
     "text": [
      "2\n",
      "3\n",
      "5\n",
      "7\n",
      "11\n",
      "13\n",
      "17\n",
      "19\n",
      "23\n",
      "29\n",
      "31\n",
      "37\n",
      "41\n",
      "43\n",
      "47\n",
      "53\n",
      "59\n",
      "61\n",
      "67\n",
      "71\n"
     ]
    }
   ],
   "source": [
    "prime_gen = prime_numbers()\n",
    "for _ in range(20):\n",
    "    print(next(prime_gen))"
   ]
  },
  {
   "cell_type": "markdown",
   "id": "41f6e8c6-a1cb-47a2-90f5-c41ba78fcbc3",
   "metadata": {},
   "source": [
    "Q6. Write a python program to print the first 10 Fibonacci numbers using a while loop."
   ]
  },
  {
   "cell_type": "code",
   "execution_count": 17,
   "id": "a42b7b32-c498-45bb-9af0-efa0c9c7e386",
   "metadata": {},
   "outputs": [
    {
     "name": "stdout",
     "output_type": "stream",
     "text": [
      "0\n",
      "1\n",
      "1\n",
      "2\n",
      "3\n",
      "5\n",
      "8\n",
      "13\n",
      "21\n",
      "34\n"
     ]
    }
   ],
   "source": [
    "n1, n2 = 0, 1\n",
    "count = 0\n",
    "\n",
    "while count < 10:\n",
    "    print(n1)\n",
    "    nth = n1 + n2\n",
    "    n1 = n2\n",
    "    n2 = nth\n",
    "    count += 1"
   ]
  },
  {
   "cell_type": "markdown",
   "id": "b62704b7-a016-4ddb-9545-77f852b2787b",
   "metadata": {},
   "source": [
    "Q7. Write a List Comprehension to iterate through the given string: ‘pwskills’.\n",
    "Expected output: ['p', 'w', 's', 'k', 'i', 'l', 'l', 's']"
   ]
  },
  {
   "cell_type": "code",
   "execution_count": 31,
   "id": "36b3cdf6-ed8a-4059-907d-0dd6fa444939",
   "metadata": {},
   "outputs": [
    {
     "name": "stdout",
     "output_type": "stream",
     "text": [
      "['p', 'w', 's', 'k', 'i', 'l', 'l', 's']\n"
     ]
    }
   ],
   "source": [
    "str = 'pwskills'\n",
    "l = [char for char in str]\n",
    "print(l)"
   ]
  },
  {
   "cell_type": "markdown",
   "id": "a68d1e16-c540-4ffa-82f0-3786ad0599f8",
   "metadata": {},
   "source": [
    "Q8. Write a python program to check whether a given number is Palindrome or not using a while loop."
   ]
  },
  {
   "cell_type": "code",
   "execution_count": 36,
   "id": "14f4406f-a3ce-469c-9c80-57b5b40f96eb",
   "metadata": {},
   "outputs": [
    {
     "name": "stdin",
     "output_type": "stream",
     "text": [
      "Enter a number:  45\n"
     ]
    },
    {
     "name": "stdout",
     "output_type": "stream",
     "text": [
      "45 is not a Palindrome\n"
     ]
    }
   ],
   "source": [
    "def is_palindrome(num):\n",
    "    original_num = num\n",
    "    reverse = 0\n",
    "\n",
    "    while num != 0:\n",
    "        remainder = num % 10\n",
    "        reverse = reverse * 10 + remainder\n",
    "        num //= 10\n",
    "\n",
    "    if original_num == reverse:\n",
    "        print(f\"{original_num} is a Palindrome\")\n",
    "    else:\n",
    "        print(f\"{original_num} is not a Palindrome\")\n",
    "\n",
    "user_input = int(input(\"Enter a number: \"))\n",
    "is_palindrome(user_input)"
   ]
  },
  {
   "cell_type": "markdown",
   "id": "e417a3dd-a4fe-4859-a1b4-305f388dad9d",
   "metadata": {},
   "source": [
    "Q9. Write a code to print odd numbers from 1 to 100 using list comprehension."
   ]
  },
  {
   "cell_type": "code",
   "execution_count": 38,
   "id": "fc0ee421-37cd-4615-8d85-2f783f6e2eff",
   "metadata": {},
   "outputs": [
    {
     "name": "stdout",
     "output_type": "stream",
     "text": [
      "[1, 3, 5, 7, 9, 11, 13, 15, 17, 19, 21, 23, 25, 27, 29, 31, 33, 35, 37, 39, 41, 43, 45, 47, 49, 51, 53, 55, 57, 59, 61, 63, 65, 67, 69, 71, 73, 75, 77, 79, 81, 83, 85, 87, 89, 91, 93, 95, 97, 99]\n"
     ]
    }
   ],
   "source": [
    "odd_num = [x for x in range(1, 101)\n",
    "           if x % 2 == 1]\n",
    "print(odd_num)"
   ]
  },
  {
   "cell_type": "code",
   "execution_count": null,
   "id": "705e7943-3b25-4122-9d04-93a41f35817d",
   "metadata": {},
   "outputs": [],
   "source": []
  }
 ],
 "metadata": {
  "kernelspec": {
   "display_name": "Python 3 (ipykernel)",
   "language": "python",
   "name": "python3"
  },
  "language_info": {
   "codemirror_mode": {
    "name": "ipython",
    "version": 3
   },
   "file_extension": ".py",
   "mimetype": "text/x-python",
   "name": "python",
   "nbconvert_exporter": "python",
   "pygments_lexer": "ipython3",
   "version": "3.10.8"
  }
 },
 "nbformat": 4,
 "nbformat_minor": 5
}
